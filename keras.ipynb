{
 "cells": [
  {
   "cell_type": "markdown",
   "id": "6531f9b3",
   "metadata": {},
   "source": [
    "# Word embedding techniques using embedding layer in keras\n"
   ]
  },
  {
   "cell_type": "code",
   "execution_count": null,
   "id": "5e54fd07",
   "metadata": {},
   "outputs": [],
   "source": []
  },
  {
   "cell_type": "code",
   "execution_count": 3,
   "id": "7067b259",
   "metadata": {},
   "outputs": [],
   "source": [
    "### Sentences\n",
    "sent=['the glass of milk','the glass of orange juice','i am a good boy','i am a good developer','understand the meaning of words','your videos are good']\n"
   ]
  },
  {
   "cell_type": "code",
   "execution_count": 4,
   "id": "728bdb87",
   "metadata": {},
   "outputs": [
    {
     "data": {
      "text/plain": [
       "['the glass of milk',\n",
       " 'the glass of orange juice',\n",
       " 'i am a good boy',\n",
       " 'i am a good developer',\n",
       " 'understand the meaning of words',\n",
       " 'your videos are good']"
      ]
     },
     "execution_count": 4,
     "metadata": {},
     "output_type": "execute_result"
    }
   ],
   "source": [
    "sent"
   ]
  },
  {
   "cell_type": "code",
   "execution_count": null,
   "id": "14388040",
   "metadata": {},
   "outputs": [],
   "source": [
    "voc_size = 10000 # vocabulary size (Size of the dictionary)"
   ]
  },
  {
   "cell_type": "markdown",
   "id": "8abc6e20",
   "metadata": {},
   "source": [
    "### One hot representation"
   ]
  },
  {
   "cell_type": "code",
   "execution_count": null,
   "id": "5bd156a9",
   "metadata": {},
   "outputs": [
    {
     "ename": "",
     "evalue": "",
     "output_type": "error",
     "traceback": [
      "\u001b[1;31mRunning cells with 'Python 3.9.6' requires the ipykernel package.\n",
      "\u001b[1;31mInstall 'ipykernel' into the Python environment. \n",
      "\u001b[1;31mCommand: '/usr/bin/python3 -m pip install ipykernel -U --user --force-reinstall'"
     ]
    }
   ],
   "source": [
    "%pip install tensorflow\n",
    "\n",
    "from tensorflow.keras.preprocessing.sequence import pad_sequences\n",
    "from tensorflow.keras.models import Sequential"
   ]
  },
  {
   "cell_type": "code",
   "execution_count": 14,
   "id": "d5e6c8ff",
   "metadata": {},
   "outputs": [],
   "source": [
    "import numpy as np"
   ]
  },
  {
   "cell_type": "code",
   "execution_count": 15,
   "id": "4e689a80",
   "metadata": {},
   "outputs": [
    {
     "ename": "NameError",
     "evalue": "name 'pad_sequences' is not defined",
     "output_type": "error",
     "traceback": [
      "\u001b[31m---------------------------------------------------------------------------\u001b[39m",
      "\u001b[31mNameError\u001b[39m                                 Traceback (most recent call last)",
      "\u001b[36mCell\u001b[39m\u001b[36m \u001b[39m\u001b[32mIn[15]\u001b[39m\u001b[32m, line 2\u001b[39m\n\u001b[32m      1\u001b[39m sent_length=\u001b[32m8\u001b[39m\n\u001b[32m----> \u001b[39m\u001b[32m2\u001b[39m embedded_docs=\u001b[43mpad_sequences\u001b[49m(sent, padding=\u001b[33m'\u001b[39m\u001b[33mpre\u001b[39m\u001b[33m'\u001b[39m, maxlen=sent_length)\n",
      "\u001b[31mNameError\u001b[39m: name 'pad_sequences' is not defined"
     ]
    }
   ],
   "source": [
    "sent_length=8\n",
    "embedded_docs=pad_sequences(sent, padding='pre', maxlen=sent_length)"
   ]
  },
  {
   "cell_type": "code",
   "execution_count": null,
   "id": "3cd87215",
   "metadata": {},
   "outputs": [],
   "source": []
  }
 ],
 "metadata": {
  "kernelspec": {
   "display_name": "Python 3",
   "language": "python",
   "name": "python3"
  },
  "language_info": {
   "codemirror_mode": {
    "name": "ipython",
    "version": 3
   },
   "file_extension": ".py",
   "mimetype": "text/x-python",
   "name": "python",
   "nbconvert_exporter": "python",
   "pygments_lexer": "ipython3",
   "version": "3.9.6"
  }
 },
 "nbformat": 4,
 "nbformat_minor": 5
}
